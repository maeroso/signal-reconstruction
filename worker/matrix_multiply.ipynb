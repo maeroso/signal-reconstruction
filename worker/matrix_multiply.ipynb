{
 "metadata": {
  "language_info": {
   "codemirror_mode": {
    "name": "ipython",
    "version": 3
   },
   "file_extension": ".py",
   "mimetype": "text/x-python",
   "name": "python",
   "nbconvert_exporter": "python",
   "pygments_lexer": "ipython3",
   "version": "3.8.2-final"
  },
  "orig_nbformat": 2,
  "kernelspec": {
   "name": "python_defaultSpec_1596133650753",
   "display_name": "Python 3.8.2 64-bit"
  }
 },
 "nbformat": 4,
 "nbformat_minor": 2,
 "cells": [
  {
   "cell_type": "code",
   "execution_count": null,
   "metadata": {
    "tags": []
   },
   "outputs": [],
   "source": [
    "import numpy as np\n",
    "import pandas as pd\n",
    "\n",
    "a_csv = pd.read_csv('../files/a.csv', header=None)\n",
    "M_csv = pd.read_csv('../files/M.csv', header=None)\n",
    "N_csv = pd.read_csv('../files/N.csv', header=None)\n",
    "\n",
    "a = a_csv.to_numpy()\n",
    "M = M_csv.to_numpy()\n",
    "N = N_csv.to_numpy()\n",
    "\n",
    "try:\n",
    "    aM = np.matmul(a,M)\n",
    "    MN = np.matmul(M,N)\n",
    "except:\n",
    "    print('Matrizes precisam ter mesmo tamanho')"
   ]
  },
  {
   "cell_type": "code",
   "execution_count": null,
   "metadata": {},
   "outputs": [],
   "source": [
    "import numpy as np\n",
    "import pandas as pd\n",
    "\n",
    "g_csv = pd.read_csv('./files/g-1.txt', sep='\\n', decimal=',', header=None, dtype=float)\n",
    "H_csv = pd.read_csv('./files/H-1/H-1.txt', header=None,dtype=float)\n",
    "\n",
    "H = H_csv.to_numpy()\n",
    "\n",
    "print('Cheguei aqui')"
   ]
  },
  {
   "cell_type": "code",
   "execution_count": 1,
   "metadata": {},
   "outputs": [],
   "source": [
    "import pandas\n",
    "import numpy \n",
    "\n",
    "r_old = pandas.read_csv('./../files/avaliacao/sinal1.csv', sep='\\n',\n",
    "                    decimal=',', header=None, dtype=float).to_numpy()"
   ]
  },
  {
   "cell_type": "code",
   "execution_count": 2,
   "metadata": {},
   "outputs": [],
   "source": [
    "import pandas\n",
    "import numpy \n",
    "\n",
    "H = pandas.read_csv('./../files/H-1/H-1.txt', header=None, dtype=float).to_numpy()"
   ]
  },
  {
   "cell_type": "code",
   "execution_count": 4,
   "metadata": {},
   "outputs": [],
   "source": [
    "import numpy \n",
    "\n",
    "p_old = numpy.matmul(H.transpose(),r_old)"
   ]
  },
  {
   "cell_type": "code",
   "execution_count": 5,
   "metadata": {},
   "outputs": [],
   "source": [
    "import numpy\n",
    "\n",
    "f_old = numpy.zeros_like(p_old)\n"
   ]
  },
  {
   "cell_type": "code",
   "execution_count": 9,
   "metadata": {
    "tags": []
   },
   "outputs": [
    {
     "output_type": "stream",
     "name": "stdout",
     "text": "Fim do precessamento da imagem -> Minutos: 0   Segundos: 0\n"
    }
   ],
   "source": [
    "import numpy \n",
    "from PIL import Image\n",
    "import cv2\n",
    "import time\n",
    "\n",
    "start = time.time()\n",
    "\n",
    "for index in range(5):\n",
    "\n",
    "    a_i = numpy.matmul(r_old.transpose(), r_old, dtype=float) / numpy.matmul(p_old.transpose(), p_old)\n",
    "\n",
    "    f_next = f_old + numpy.matmul(p_old, a_i)\n",
    "\n",
    "    r_next = r_old - numpy.matmul(numpy.matmul(H,p_old),a_i)\n",
    "\n",
    "    beta = numpy.matmul(r_next.transpose(),r_next) / numpy.matmul(r_old.transpose(),r_old)\n",
    "\n",
    "    p_next = numpy.matmul(H.transpose(), r_next) + numpy.matmul(p_old,beta)\n",
    "\n",
    "    p_old = p_next\n",
    "\n",
    "    f_old = f_next\n",
    "\n",
    "    r_old = r_next\n",
    "\n",
    "end = time.time()\n",
    "print('Fim do precessamento da imagem -> Minutos: ' + str(int((end - start) / 60)) +\n",
    "      '   Segundos: ' + str(int((end - start) / 60)))\n",
    "\n",
    "p_reshaped = p_next.reshape(60,60)\n",
    "\n",
    "primeiraImagem = Image.fromarray(cv2.normalize(p_reshaped, numpy.zeros_like(p_reshaped), 255, 0, cv2.NORM_MINMAX))\n",
    "\n",
    "primeiraImagem.show()"
   ]
  },
  {
   "cell_type": "code",
   "execution_count": null,
   "metadata": {},
   "outputs": [],
   "source": []
  }
 ]
}