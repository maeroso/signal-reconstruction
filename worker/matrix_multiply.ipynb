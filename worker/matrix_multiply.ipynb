{
 "metadata": {
  "language_info": {
   "codemirror_mode": {
    "name": "ipython",
    "version": 3
   },
   "file_extension": ".py",
   "mimetype": "text/x-python",
   "name": "python",
   "nbconvert_exporter": "python",
   "pygments_lexer": "ipython3",
   "version": "3.8.2-final"
  },
  "orig_nbformat": 2,
  "kernelspec": {
   "name": "python_defaultSpec_1596079955689",
   "display_name": "Python 3.8.2 64-bit"
  }
 },
 "nbformat": 4,
 "nbformat_minor": 2,
 "cells": [
  {
   "cell_type": "code",
   "execution_count": null,
   "metadata": {
    "tags": []
   },
   "outputs": [],
   "source": [
    "import numpy as np\n",
    "import pandas as pd\n",
    "\n",
    "a_csv = pd.read_csv('../files/a.csv', header=None)\n",
    "M_csv = pd.read_csv('../files/M.csv', header=None)\n",
    "N_csv = pd.read_csv('../files/N.csv', header=None)\n",
    "\n",
    "a = a_csv.to_numpy()\n",
    "M = M_csv.to_numpy()\n",
    "N = N_csv.to_numpy()\n",
    "\n",
    "try:\n",
    "    aM = np.matmul(a,M)\n",
    "    MN = np.matmul(M,N)\n",
    "except:\n",
    "    print('Matrizes precisam ter mesmo tamanho')"
   ]
  },
  {
   "cell_type": "code",
   "execution_count": null,
   "metadata": {},
   "outputs": [],
   "source": [
    "import numpy as np\n",
    "import pandas as pd\n",
    "\n",
    "g_csv = pd.read_csv('./files/g-1.txt', sep='\\n', decimal=',', header=None, dtype=float)\n",
    "H_csv = pd.read_csv('./files/H-1/H-1.txt', header=None,dtype=float)\n",
    "\n",
    "H = H_csv.to_numpy()\n",
    "\n",
    "print('Cheguei aqui')"
   ]
  }
 ]
}