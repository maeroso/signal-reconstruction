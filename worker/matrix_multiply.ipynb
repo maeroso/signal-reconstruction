{
 "metadata": {
  "language_info": {
   "codemirror_mode": {
    "name": "ipython",
    "version": 3
   },
   "file_extension": ".py",
   "mimetype": "text/x-python",
   "name": "python",
   "nbconvert_exporter": "python",
   "pygments_lexer": "ipython3",
   "version": "3.8.2-final"
  },
  "orig_nbformat": 2,
  "kernelspec": {
   "name": "python_defaultSpec_1596133650753",
   "display_name": "Python 3.8.2 64-bit"
  }
 },
 "nbformat": 4,
 "nbformat_minor": 2,
 "cells": [
  {
   "cell_type": "code",
   "execution_count": null,
   "metadata": {
    "tags": []
   },
   "outputs": [],
   "source": [
    "import numpy as np\n",
    "import pandas as pd\n",
    "\n",
    "a_csv = pd.read_csv('../files/a.csv', header=None)\n",
    "M_csv = pd.read_csv('../files/M.csv', header=None)\n",
    "N_csv = pd.read_csv('../files/N.csv', header=None)\n",
    "\n",
    "a = a_csv.to_numpy()\n",
    "M = M_csv.to_numpy()\n",
    "N = N_csv.to_numpy()\n",
    "\n",
    "try:\n",
    "    aM = np.matmul(a,M)\n",
    "    MN = np.matmul(M,N)\n",
    "except:\n",
    "    print('Matrizes precisam ter mesmo tamanho')"
   ]
  },
  {
   "cell_type": "code",
   "execution_count": null,
   "metadata": {},
   "outputs": [],
   "source": [
    "import numpy as np\n",
    "import pandas as pd\n",
    "\n",
    "g_csv = pd.read_csv('./files/g-1.txt', sep='\\n', decimal=',', header=None, dtype=float)\n",
    "H_csv = pd.read_csv('./files/H-1/H-1.txt', header=None,dtype=float)\n",
    "\n",
    "H = H_csv.to_numpy()\n",
    "\n",
    "print('Cheguei aqui')"
   ]
  },
  {
   "cell_type": "code",
   "execution_count": 30,
   "metadata": {},
   "outputs": [],
   "source": [
    "import pandas\n",
    "import numpy \n",
    "\n",
    "r0 = pandas.read_csv('./../files/avaliacao/sinal1.csv', sep='\\n',\n",
    "                    decimal=',', header=None, dtype=float).to_numpy()"
   ]
  },
  {
   "cell_type": "code",
   "execution_count": 5,
   "metadata": {},
   "outputs": [],
   "source": [
    "import pandas\n",
    "import numpy \n",
    "\n",
    "H = pandas.read_csv('./../files/H-1/H-1.txt', header=None, dtype=float).to_numpy()"
   ]
  },
  {
   "cell_type": "code",
   "execution_count": 31,
   "metadata": {},
   "outputs": [],
   "source": [
    "import numpy \n",
    "\n",
    "p0 = numpy.matmul(HT,r0)"
   ]
  },
  {
   "cell_type": "code",
   "execution_count": 32,
   "metadata": {},
   "outputs": [],
   "source": [
    "import numpy\n",
    "\n",
    "f0 = numpy.zeros_like(p0)\n"
   ]
  },
  {
   "cell_type": "code",
   "execution_count": 34,
   "metadata": {},
   "outputs": [],
   "source": [
    "import numpy \n",
    "from PIL import Image\n",
    "import cv2\n",
    "\n",
    "a_i = numpy.matmul(r0.transpose(), r0, dtype=float) / numpy.matmul(p0.transpose(), p0)\n",
    "\n",
    "f_next = f0 + numpy.matmul(p0, a_i)\n",
    "\n",
    "r_next = r0 - numpy.matmul(numpy.matmul(H,p0),a_i)\n",
    "\n",
    "beta = numpy.matmul(r_next.transpose(),r_next) / numpy.matmul(r0.transpose(),r0)\n",
    "\n",
    "p_next = numpy.matmul(H.transpose(), r_next) + numpy.matmul(p0,beta)\n",
    "\n",
    "p_reshaped = p_next.reshape(60,60)\n",
    "\n",
    "primeiraImagem = Image.fromarray(cv2.normalize(p_reshaped, numpy.zeros_like(p_reshaped), 255, 0, cv2.NORM_MINMAX))\n",
    "\n",
    "primeiraImagem.show()"
   ]
  },
  {
   "cell_type": "code",
   "execution_count": null,
   "metadata": {},
   "outputs": [],
   "source": []
  }
 ]
}