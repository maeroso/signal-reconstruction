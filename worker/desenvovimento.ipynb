{
 "cells": [
  {
   "cell_type": "code",
   "execution_count": 4,
   "metadata": {
    "collapsed": true,
    "pycharm": {
     "name": "#%%\n"
    }
   },
   "outputs": [],
   "source": [
    "from pandas import read_csv\n",
    "import numpy\n",
    "import cv2\n",
    "from PIL import Image"
   ]
  },
  {
   "cell_type": "code",
   "execution_count": 5,
   "outputs": [],
   "source": [
    "n_amostras = 794\n",
    "n_sensores = 64\n",
    "erro_minimo = numpy.float64('1.0e-4')"
   ],
   "metadata": {
    "collapsed": false,
    "pycharm": {
     "name": "#%%\n"
    }
   }
  },
  {
   "cell_type": "code",
   "execution_count": 6,
   "outputs": [
    {
     "name": "stdout",
     "output_type": "stream",
     "text": [
      "Importando sinal da matriz H\n",
      "Matriz H importada\n"
     ]
    }
   ],
   "source": [
    "print(\"Importando sinal da matriz H\")\n",
    "matriz_H = read_csv(filepath_or_buffer='../files/H-1/H-1.csv', header=None, dtype=float).to_numpy()\n",
    "print(\"Matriz H importada\")"
   ],
   "metadata": {
    "collapsed": false,
    "pycharm": {
     "name": "#%%\n"
    }
   }
  },
  {
   "cell_type": "code",
   "execution_count": 7,
   "outputs": [],
   "source": [
    "sinal_original = read_csv(filepath_or_buffer='../files/avaliacao/sinal1.csv', header=None, dtype=float, sep='\\t',\n",
    "                          decimal=',').to_numpy()"
   ],
   "metadata": {
    "collapsed": false,
    "pycharm": {
     "name": "#%%\n"
    }
   }
  },
  {
   "cell_type": "code",
   "execution_count": 8,
   "outputs": [],
   "source": [
    "sinal = numpy.zeros(shape=sinal_original.shape)\n",
    "sinal_old =sinal_original\n",
    "for _ in range(1):\n",
    "    for linha in range(n_sensores):\n",
    "        for coluna in range(n_amostras):\n",
    "            epsulon = 100 + 1 / 20 * coluna * numpy.sqrt(coluna)\n",
    "            array_position = linha * n_amostras + coluna\n",
    "            sinal[array_position, 0] = sinal_old[array_position, 0] * epsulon\n",
    "    sinal_old = sinal"
   ],
   "metadata": {
    "collapsed": false,
    "pycharm": {
     "name": "#%%\n"
    }
   }
  },
  {
   "cell_type": "code",
   "execution_count": 9,
   "outputs": [],
   "source": [
    "f_old = numpy.zeros((3600, 1), dtype=numpy.float64)\n",
    "r_old = numpy.subtract(sinal, numpy.zeros(shape=(matriz_H.shape[0], 1)))\n",
    "z_old = numpy.matmul(matriz_H.transpose(), r_old)\n",
    "p_old = z_old\n",
    "\n",
    "ultimo_erro = numpy.float64('9999.0')\n",
    "melhor_imagem = f_old\n",
    "n_iteracao = 0"
   ],
   "metadata": {
    "collapsed": false,
    "pycharm": {
     "name": "#%%\n"
    }
   }
  },
  {
   "cell_type": "code",
   "execution_count": 10,
   "outputs": [
    {
     "name": "stdout",
     "output_type": "stream",
     "text": [
      "Bateu no erro minimo\n"
     ]
    }
   ],
   "source": [
    "for _ in range(400):\n",
    "    n_iteracao += 1\n",
    "    w_new = numpy.matmul(matriz_H, p_old)\n",
    "    alpha = numpy.divide(numpy.power(numpy.linalg.norm(z_old), 2), numpy.power(numpy.linalg.norm(w_new), 2))\n",
    "    f_new = numpy.add(f_old, alpha * p_old)\n",
    "    r_new = numpy.subtract(r_old, w_new * alpha)\n",
    "    z_new = numpy.matmul(matriz_H.transpose(), r_new)\n",
    "    beta = numpy.divide(numpy.power(numpy.linalg.norm(z_new), 2), numpy.power(numpy.linalg.norm(z_old), 2))\n",
    "    p_new = numpy.add(z_new, beta * p_old)\n",
    "    erro = numpy.absolute(numpy.subtract(numpy.linalg.norm(r_new, ord=2), numpy.linalg.norm(r_old, ord=2)))\n",
    "    if erro < ultimo_erro:\n",
    "        melhor_imagem = f_new\n",
    "        ultimo_erro = erro\n",
    "    if erro < erro_minimo:\n",
    "        print(\"Bateu no erro minimo\")\n",
    "        break\n",
    "    f_old = f_new\n",
    "    r_old = r_new\n",
    "    z_old = z_new\n",
    "    p_old = p_new"
   ],
   "metadata": {
    "collapsed": false,
    "pycharm": {
     "name": "#%%\n"
    }
   }
  },
  {
   "cell_type": "code",
   "execution_count": 11,
   "outputs": [],
   "source": [
    "reshape = melhor_imagem.reshape(60, 60)"
   ],
   "metadata": {
    "collapsed": false,
    "pycharm": {
     "name": "#%%\n"
    }
   }
  },
  {
   "cell_type": "code",
   "execution_count": 12,
   "outputs": [],
   "source": [
    "normalized = cv2.normalize(src=reshape, alpha=0, beta=255, dst=numpy.zeros_like(reshape), norm_type=cv2.NORM_MINMAX)"
   ],
   "metadata": {
    "collapsed": false,
    "pycharm": {
     "name": "#%%\n"
    }
   }
  },
  {
   "cell_type": "code",
   "execution_count": 13,
   "outputs": [],
   "source": [
    "first_image = Image.fromarray(numpy.uint8(normalized.transpose()), mode='L')"
   ],
   "metadata": {
    "collapsed": false,
    "pycharm": {
     "name": "#%%\n"
    }
   }
  },
  {
   "cell_type": "code",
   "execution_count": 14,
   "outputs": [],
   "source": [
    "first_image.save(fp='images/first.bmp')"
   ],
   "metadata": {
    "collapsed": false,
    "pycharm": {
     "name": "#%%\n"
    }
   }
  }
 ],
 "metadata": {
  "interpreter": {
   "hash": "f9f85f796d01129d0dd105a088854619f454435301f6ffec2fea96ecbd9be4ac"
  },
  "kernelspec": {
   "display_name": "Python 3.9.12 64-bit",
   "language": "python",
   "name": "python3"
  },
  "language_info": {
   "codemirror_mode": {
    "name": "ipython",
    "version": 3
   },
   "file_extension": ".py",
   "mimetype": "text/x-python",
   "name": "python",
   "nbconvert_exporter": "python",
   "pygments_lexer": "ipython3",
   "version": "3.9.12"
  }
 },
 "nbformat": 4,
 "nbformat_minor": 0
}