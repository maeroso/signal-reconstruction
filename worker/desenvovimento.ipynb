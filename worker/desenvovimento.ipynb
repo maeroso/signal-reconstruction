{
 "cells": [
  {
   "cell_type": "code",
   "execution_count": 11,
   "metadata": {
    "collapsed": true,
    "pycharm": {
     "name": "#%%\n"
    }
   },
   "outputs": [],
   "source": [
    "from pandas import read_csv, DataFrame, read_pickle\n",
    "import numpy\n",
    "import cv2\n",
    "from PIL import Image\n",
    "from os.path import exists\n",
    "\n",
    "class CGNR():\n",
    "    __n_amostras = 794\n",
    "    __n_sensores = 64\n",
    "    __erro_minimo = numpy.float64('1.0e-4')\n",
    "    __shape_matriz_h = None\n",
    "    __shape_matriz_h_transposta = None\n",
    "    __contador = 0\n",
    "    __sinal = None\n",
    "    __matriz_h_path = '../files/H-1/H-1.pickle'\n",
    "    __matriz_ht_path = '../files/H-1/HT-1.pickle'\n",
    "\n",
    "    def __init__(self):\n",
    "        if exists(self.__matriz_h_path):\n",
    "            self.__shape_matriz_h = read_pickle(filepath_or_buffer=self.__matriz_h_path).to_numpy().shape\n",
    "        else:\n",
    "            matriz_H = read_csv(filepath_or_buffer='../files/H-1/H-1.csv', header=None, dtype=float).to_numpy()\n",
    "            self.__shape_matriz_h = matriz_H.shape\n",
    "            DataFrame(data=matriz_H, dtype=float).to_pickle(path=self.__matriz_h_path)\n",
    "        if exists(self.__matriz_ht_path):\n",
    "            self.__shape_matriz_h_transposta = read_pickle(filepath_or_buffer=self.__matriz_ht_path).to_numpy().shape\n",
    "        else:\n",
    "            matriz_H_transposta = read_pickle(filepath_or_buffer=self.__matriz_h_path).to_numpy().transpose()\n",
    "            self.__shape_matriz_h_transposta = matriz_H_transposta.shape\n",
    "            DataFrame(data=matriz_H_transposta, dtype=float).to_pickle(path=self.__matriz_ht_path)\n",
    "\n",
    "    def load_sinal(self, path: str, n_sinal_incremento: int = 1) -> None:\n",
    "        sinal_original = read_csv(filepath_or_buffer=path, header=None, dtype=float, sep='\\t',\n",
    "                                  decimal=',').to_numpy()\n",
    "        sinal = numpy.zeros(shape=sinal_original.shape)\n",
    "        sinal_old = sinal_original\n",
    "        for _ in range(n_sinal_incremento):\n",
    "            for linha in range(self.__n_sensores):\n",
    "                for coluna in range(self.__n_amostras):\n",
    "                    epsulon = 100 + 1 / 20 * coluna * numpy.sqrt(coluna)\n",
    "                    array_position = linha * self.__n_amostras + coluna\n",
    "                    sinal[array_position, 0] = sinal_old[array_position, 0] * epsulon\n",
    "            sinal_old = sinal\n",
    "        self.__sinal = sinal\n",
    "\n",
    "    def generate_image(self):\n",
    "        f_old = numpy.zeros((3600, 1), dtype=numpy.float64)\n",
    "        r_old = numpy.subtract(self.__sinal, numpy.zeros(shape=(self.__shape_matriz_h[0], 1)))\n",
    "        z_old = numpy.matmul(read_pickle(filepath_or_buffer=self.__matriz_ht_path).to_numpy(), r_old)\n",
    "        p_old = z_old\n",
    "\n",
    "        ultimo_erro = numpy.float64('9999.0')\n",
    "        melhor_imagem = f_old\n",
    "        n_iteracao = 0\n",
    "        for _ in range(150):\n",
    "            n_iteracao += 1\n",
    "            w_new = numpy.matmul(read_pickle(filepath_or_buffer=self.__matriz_h_path).to_numpy(), p_old)\n",
    "            alpha = numpy.divide(numpy.power(numpy.linalg.norm(z_old), 2), numpy.power(numpy.linalg.norm(w_new), 2))\n",
    "            f_new = numpy.add(f_old, alpha * p_old)\n",
    "            r_new = numpy.subtract(r_old, w_new * alpha)\n",
    "            z_new = numpy.matmul(read_pickle(filepath_or_buffer=self.__matriz_ht_path).to_numpy(), r_new)\n",
    "            beta = numpy.divide(numpy.power(numpy.linalg.norm(z_new), 2), numpy.power(numpy.linalg.norm(z_old), 2))\n",
    "            p_new = numpy.add(z_new, beta * p_old)\n",
    "            erro = numpy.absolute(numpy.subtract(numpy.linalg.norm(r_new, ord=2), numpy.linalg.norm(r_old, ord=2)))\n",
    "            if erro < ultimo_erro:\n",
    "                melhor_imagem = f_new\n",
    "                ultimo_erro = erro\n",
    "            if erro < self.__erro_minimo:\n",
    "                print(\"Bateu no erro minimo\")\n",
    "                break\n",
    "            f_old = f_new\n",
    "            r_old = r_new\n",
    "            z_old = z_new\n",
    "            p_old = p_new\n",
    "        reshape = melhor_imagem.reshape(60, 60)\n",
    "        normalized = cv2.normalize(src=reshape, alpha=0, beta=255, dst=numpy.zeros_like(reshape),\n",
    "                                   norm_type=cv2.NORM_MINMAX)\n",
    "        first_image = Image.fromarray(numpy.uint8(normalized.transpose()), mode='L')\n",
    "        first_image.save(fp=f'images/image numero {self.__contador}.bmp')\n",
    "        self.__contador += 1"
   ]
  },
  {
   "cell_type": "code",
   "execution_count": 12,
   "outputs": [],
   "source": [
    "cgnr = CGNR()"
   ],
   "metadata": {
    "collapsed": false,
    "pycharm": {
     "name": "#%%\n"
    }
   }
  },
  {
   "cell_type": "code",
   "execution_count": 13,
   "outputs": [],
   "source": [
    "cgnr.load_sinal(path='../files/avaliacao/sinal1.csv')"
   ],
   "metadata": {
    "collapsed": false,
    "pycharm": {
     "name": "#%%\n"
    }
   }
  },
  {
   "cell_type": "code",
   "execution_count": 14,
   "outputs": [
    {
     "name": "stdout",
     "output_type": "stream",
     "text": [
      "Bateu no erro minimo\n"
     ]
    }
   ],
   "source": [
    "cgnr.generate_image()"
   ],
   "metadata": {
    "collapsed": false,
    "pycharm": {
     "name": "#%%\n"
    }
   }
  }
 ],
 "metadata": {
  "interpreter": {
   "hash": "f9f85f796d01129d0dd105a088854619f454435301f6ffec2fea96ecbd9be4ac"
  },
  "kernelspec": {
   "display_name": "Python 3.9.12 64-bit",
   "language": "python",
   "name": "python3"
  },
  "language_info": {
   "codemirror_mode": {
    "name": "ipython",
    "version": 3
   },
   "file_extension": ".py",
   "mimetype": "text/x-python",
   "name": "python",
   "nbconvert_exporter": "python",
   "pygments_lexer": "ipython3",
   "version": "3.9.12"
  }
 },
 "nbformat": 4,
 "nbformat_minor": 0
}