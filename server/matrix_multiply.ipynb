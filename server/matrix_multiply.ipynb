{
 "metadata": {
  "language_info": {
   "codemirror_mode": {
    "name": "ipython",
    "version": 3
   },
   "file_extension": ".py",
   "mimetype": "text/x-python",
   "name": "python",
   "nbconvert_exporter": "python",
   "pygments_lexer": "ipython3",
   "version": "3.8.2-final"
  },
  "orig_nbformat": 2,
  "kernelspec": {
   "name": "python_defaultSpec_1596068747667",
   "display_name": "Python 3.8.2 64-bit"
  }
 },
 "nbformat": 4,
 "nbformat_minor": 2,
 "cells": [
  {
   "cell_type": "code",
   "execution_count": 2,
   "metadata": {},
   "outputs": [],
   "source": [
    "import numpy as np\n",
    "import pandas as pd\n",
    "\n",
    "a_csv = pd.read_csv('../files/a.csv')\n",
    "M_csv = pd.read_csv('../files/M.csv')\n",
    "N_csv = pd.read_csv('../files/N.csv')\n",
    "\n",
    "a = a_csv.to_numpy()\n",
    "M = M_csv.to_numpy()\n",
    "N = N_csv.to_numpy()\n",
    "\n",
    "aM = np.matmul(a,M)\n",
    "MN = np.matmul(M,N)"
   ]
  }
 ]
}